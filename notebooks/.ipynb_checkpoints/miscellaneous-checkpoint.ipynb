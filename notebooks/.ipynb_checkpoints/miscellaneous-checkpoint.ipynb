{
 "metadata": {
  "language": "Julia",
  "name": "",
  "signature": "sha256:9342141b250c1919f80fc825b9c86737960af2de7385ea0c1fab94f6c4dae9c4"
 },
 "nbformat": 3,
 "nbformat_minor": 0,
 "worksheets": [
  {
   "cells": [
    {
     "cell_type": "code",
     "collapsed": false,
     "input": [
      "import json"
     ],
     "language": "python",
     "metadata": {},
     "outputs": [],
     "prompt_number": 13
    },
    {
     "cell_type": "code",
     "collapsed": false,
     "input": [
      "json.dumps(gDict)"
     ],
     "language": "python",
     "metadata": {},
     "outputs": [
      {
       "metadata": {},
       "output_type": "pyout",
       "prompt_number": 22,
       "text": [
        "'{\"links[0][target][y]\": [\"151.63487729251352\"], \"nodes[2][x]\": [\"409.05499574676423\"], \"nodes[0][px]\": [\"453.3995800408033\"], \"links[0][target][px]\": [\"409.2694867350078\"], \"links[0][source][px]\": [\"554.3903516794527\"], \"links[1][target][y]\": [\"160.93269416033843\"], \"nodes[0][x]\": [\"453.3603878819923\"], \"links[1][source][index]\": [\"0\"], \"graph\": [\"dsfsd\"], \"links[1][target][reflexive]\": [\"false\"], \"links[1][left]\": [\"false\"], \"links[1][source][px]\": [\"453.3995800408033\"], \"nodes[1][y]\": [\"160.93269416033843\"], \"nodes[1][py]\": [\"161.05254981400722\"], \"nodes[2][py]\": [\"151.83500106113186\"], \"nodes[2][weight]\": [\"1\"], \"nodes[0][index]\": [\"0\"], \"links[0][right]\": [\"false\"], \"links[1][source][weight]\": [\"1\"], \"links[0][target][py]\": [\"151.83500106113186\"], \"links[0][source][py]\": [\"161.05254981400722\"], \"links[1][source][id]\": [\"1\"], \"links[0][source][index]\": [\"1\"], \"links[1][target][x]\": [\"554.6983367918865\"], \"links[0][target][reflexive]\": [\"false\"], \"links[1][source][reflexive]\": [\"false\"], \"nodes[1][weight]\": [\"2\"], \"nodes[1][reflexive]\": [\"false\"], \"links[0][source][weight]\": [\"2\"], \"links[1][target][py]\": [\"161.05254981400722\"], \"links[1][target][index]\": [\"1\"], \"nodes[1][id]\": [\"2\"], \"nodes[0][weight]\": [\"1\"], \"links[1][target][weight]\": [\"2\"], \"nodes[0][id]\": [\"1\"], \"nodes[2][id]\": [\"3\"], \"links[0][target][weight]\": [\"1\"], \"nodes[2][px]\": [\"409.2694867350078\"], \"links[0][source][x]\": [\"554.6983367918865\"], \"links[0][target][id]\": [\"3\"], \"links[0][source][id]\": [\"2\"], \"links[1][target][px]\": [\"554.3903516794527\"], \"links[1][source][x]\": [\"453.3603878819923\"], \"nodes[0][reflexive]\": [\"false\"], \"nodes[2][y]\": [\"151.63487729251352\"], \"nodes[2][index]\": [\"2\"], \"links[1][right]\": [\"true\"], \"nodes[0][py]\": [\"265.75651262422963\"], \"nodes[1][index]\": [\"1\"], \"links[0][source][reflexive]\": [\"false\"], \"links[1][target][id]\": [\"2\"], \"links[0][target][x]\": [\"409.05499574676423\"], \"nodes[0][y]\": [\"266.0797319963403\"], \"links[0][source][y]\": [\"160.93269416033843\"], \"links[1][source][y]\": [\"266.0797319963403\"], \"links[0][left]\": [\"true\"], \"nodes[2][reflexive]\": [\"false\"], \"nodes[1][x]\": [\"554.6983367918865\"], \"links[1][source][py]\": [\"265.75651262422963\"], \"links[0][target][index]\": [\"2\"], \"nodes[1][px]\": [\"554.3903516794527\"]}'"
       ]
      }
     ],
     "prompt_number": 22
    },
    {
     "cell_type": "code",
     "collapsed": false,
     "input": [
      "graph_dict = {'graph': 'second', 'nodes': [{'index': 0, 'reflexive': False, 'weight': 0, 'px': 531.618285152226, 'py': 221.6941020082745, 'y': 221.8363142409391, 'x': 531.8499618085675, 'id': 1}, {'index': 1, 'reflexive': False, 'weight': 1, 'px': 416.0107028150973, 'py': 236.33652678935886, 'y': 236.4815633762407, 'x': 415.76212498308973, 'id': 2}, {'index': 2, 'reflexive': False, 'weight': 1, 'px': 492.37127571156816, 'py': 111.96967219384256, 'y': 111.68244840179663, 'x': 492.38816591925206, 'id': 3}], 'links': [{'source': {'index': 1, 'reflexive': False, 'weight': 1, 'px': 416.0107028150973, 'py': 236.33652678935886, 'y': 236.4815633762407, 'x': 415.76212498308973, 'id': 2}, 'right': True, 'target': {'index': 2, 'reflexive': False, 'weight': 1, 'px': 492.37127571156, 'py': 111.96967219384256, 'y': 111.68244840179663, 'x': 492.38816591925206, 'id': 3}, 'left': False}]}"
     ],
     "language": "python",
     "metadata": {},
     "outputs": [],
     "prompt_number": 24
    },
    {
     "cell_type": "code",
     "collapsed": false,
     "input": [
      "graph_dict['nodes'][0]['weight']"
     ],
     "language": "python",
     "metadata": {},
     "outputs": [
      {
       "metadata": {},
       "output_type": "pyout",
       "prompt_number": 29,
       "text": [
        "0"
       ]
      }
     ],
     "prompt_number": 29
    },
    {
     "cell_type": "code",
     "collapsed": false,
     "input": [
      "graph_dict['nodes']"
     ],
     "language": "python",
     "metadata": {},
     "outputs": [
      {
       "metadata": {},
       "output_type": "pyout",
       "prompt_number": 28,
       "text": [
        "[{'id': 1,\n",
        "  'index': 0,\n",
        "  'px': 531.618285152226,\n",
        "  'py': 221.6941020082745,\n",
        "  'reflexive': False,\n",
        "  'weight': 0,\n",
        "  'x': 531.8499618085675,\n",
        "  'y': 221.8363142409391},\n",
        " {'id': 2,\n",
        "  'index': 1,\n",
        "  'px': 416.0107028150973,\n",
        "  'py': 236.33652678935886,\n",
        "  'reflexive': False,\n",
        "  'weight': 1,\n",
        "  'x': 415.76212498308973,\n",
        "  'y': 236.4815633762407},\n",
        " {'id': 3,\n",
        "  'index': 2,\n",
        "  'px': 492.37127571156816,\n",
        "  'py': 111.96967219384256,\n",
        "  'reflexive': False,\n",
        "  'weight': 1,\n",
        "  'x': 492.38816591925206,\n",
        "  'y': 111.68244840179663}]"
       ]
      }
     ],
     "prompt_number": 28
    },
    {
     "cell_type": "code",
     "collapsed": false,
     "input": [
      "gDict = {\n",
      "u'links[0][target][y]': [u'151.63487729251352'],\n",
      "u'nodes[1][id]': [u'2'],\n",
      "u'nodes[2][x]': [u'409.05499574676423'],\n",
      "u'nodes[0][px]': [u'453.3995800408033'],\n",
      "u'links[0][target][px]': [u'409.2694867350078'],\n",
      "u'nodes[0][weight]': [u'1'],\n",
      "u'links[0][right]': [u'false'],\n",
      "u'links[0][source][px]': [u'554.3903516794527'],\n",
      "u'nodes[0][id]': [u'1'],\n",
      "u'links[1][source][index]': [u'0'],\n",
      "u'links[1][source][y]': [u'266.0797319963403'],\n",
      "u'nodes[2][id]': [u'3'],\n",
      "u'links[1][target][px]': [u'554.3903516794527'],\n",
      "u'links[0][target][weight]': [u'1'],\n",
      "u'nodes[2][px]': [u'409.2694867350078'],\n",
      "u'links[0][source][x]': [u'554.6983367918865'],\n",
      "u'nodes[0][x]': [u'453.3603878819923'],\n",
      "u'links[1][source][x]': [u'453.3603878819923'],\n",
      "u'links[0][target][id]': [u'3'],\n",
      "u'graph': [u'dsfsd'],\n",
      "u'links[1][target][reflexive]': [u'false'],\n",
      "u'links[1][left]': [u'false'],\n",
      "u'links[1][target][y]': [u'160.93269416033843'],\n",
      "u'links[1][source][px]': [u'453.3995800408033'],\n",
      "u'nodes[1][y]': [u'160.93269416033843'],\n",
      "u'nodes[1][py]': [u'161.05254981400722'],\n",
      "u'links[1][target][x]': [u'554.6983367918865'],\n",
      "u'links[0][target][py]': [u'151.83500106113186'],\n",
      "u'nodes[2][weight]': [u'1'],\n",
      "u'links[0][target][x]': [u'409.05499574676423'],\n",
      "u'nodes[0][reflexive]': [u'false'],\n",
      "u'links[0][target][index]': [u'2'],\n",
      "u'nodes[0][index]': [u'0'],\n",
      "u'nodes[2][y]': [u'151.63487729251352'],\n",
      "u'nodes[2][index]': [u'2'],\n",
      "u'links[1][right]': [u'true'],\n",
      "u'links[1][source][weight]': [u'1'],\n",
      "u'nodes[0][py]': [u'265.75651262422963'],\n",
      "u'nodes[1][index]': [u'1'],\n",
      "u'links[0][source][py]': [u'161.05254981400722'],\n",
      "u'links[1][target][weight]': [u'2'],\n",
      "u'links[0][source][reflexive]': [u'false'],\n",
      "u'links[1][source][id]': [u'1'],\n",
      "u'links[0][source][index]': [u'1'],\n",
      "u'links[0][source][y]': [u'160.93269416033843'],\n",
      "u'links[1][target][id]': [u'2'],\n",
      "u'nodes[2][py]': [u'151.83500106113186'],\n",
      "u'links[0][target][reflexive]': [u'false'],\n",
      "u'links[1][source][reflexive]': [u'false'],\n",
      "u'nodes[0][y]': [u'266.0797319963403'],\n",
      "u'nodes[1][weight]': [u'2'],\n",
      "u'nodes[1][reflexive]': [u'false'],\n",
      "u'links[0][left]': [u'true'],\n",
      "u'nodes[2][reflexive]': [u'false'],\n",
      "u'nodes[1][x]': [u'554.6983367918865'],\n",
      "u'links[1][source][py]': [u'265.75651262422963'],\n",
      "u'links[0][source][id]': [u'2'],\n",
      "u'nodes[1][px]': [u'554.3903516794527'],\n",
      "u'links[0][source][weight]': [u'2'],\n",
      "u'links[1][target][py]': [u'161.05254981400722'],\n",
      "u'links[1][target][index]': [u'1']}"
     ],
     "language": "python",
     "metadata": {},
     "outputs": [],
     "prompt_number": 2
    },
    {
     "cell_type": "code",
     "collapsed": false,
     "input": [
      "import simplejson"
     ],
     "language": "python",
     "metadata": {},
     "outputs": [],
     "prompt_number": 23
    },
    {
     "cell_type": "code",
     "collapsed": false,
     "input": [
      "import re"
     ],
     "language": "python",
     "metadata": {},
     "outputs": [],
     "prompt_number": 3
    },
    {
     "cell_type": "code",
     "collapsed": false,
     "input": [
      "node_str = u'nodes[0][id]'"
     ],
     "language": "python",
     "metadata": {},
     "outputs": [],
     "prompt_number": 4
    },
    {
     "cell_type": "code",
     "collapsed": false,
     "input": [
      "result = re.search(r'nodes\\[(\\d+)\\]\\[id\\]', node_str)"
     ],
     "language": "python",
     "metadata": {},
     "outputs": [],
     "prompt_number": 5
    },
    {
     "cell_type": "code",
     "collapsed": false,
     "input": [
      "result.group(1)"
     ],
     "language": "python",
     "metadata": {},
     "outputs": [
      {
       "metadata": {},
       "output_type": "pyout",
       "prompt_number": 6,
       "text": [
        "u'0'"
       ]
      }
     ],
     "prompt_number": 6
    },
    {
     "cell_type": "code",
     "collapsed": false,
     "input": [
      "nodes = []\n",
      "node_id_pattern = r'nodes\\[(\\d+)\\]\\[id\\]'\n",
      "for key in gDict.keys():\n",
      "    result = re.search(node_id_pattern, key)\n",
      "    if result:\n",
      "        print result.group(1)\n",
      "        nodes.append(int(result.group(1)))\n",
      "\n",
      "print nodes"
     ],
     "language": "python",
     "metadata": {},
     "outputs": [
      {
       "output_type": "stream",
       "stream": "stdout",
       "text": [
        "1\n",
        "0\n",
        "2\n",
        "[1, 0, 2]\n"
       ]
      }
     ],
     "prompt_number": 7
    },
    {
     "cell_type": "code",
     "collapsed": false,
     "input": [
      "node_ui = []\n",
      "node_key_pattern = r'nodes\\[%i\\]\\[([a-zA-Z]+)\\]'\n",
      "for n in nodes:\n",
      "    node_dict = dict()\n",
      "    for key, value in gDict.iteritems():\n",
      "        result = re.search(node_key_pattern % n, key)\n",
      "        if result:\n",
      "            node_dict[result.group(1)] = value\n",
      "    node_ui.append(node_dict)"
     ],
     "language": "python",
     "metadata": {},
     "outputs": [],
     "prompt_number": 10
    },
    {
     "cell_type": "code",
     "collapsed": false,
     "input": [
      "json.dumps(node_ui[0])"
     ],
     "language": "python",
     "metadata": {},
     "outputs": [
      {
       "metadata": {},
       "output_type": "pyout",
       "prompt_number": 14,
       "text": [
        "'{\"index\": [\"1\"], \"reflexive\": [\"false\"], \"weight\": [\"2\"], \"px\": [\"554.3903516794527\"], \"py\": [\"161.05254981400722\"], \"y\": [\"160.93269416033843\"], \"x\": [\"554.6983367918865\"], \"id\": [\"2\"]}'"
       ]
      }
     ],
     "prompt_number": 14
    },
    {
     "cell_type": "code",
     "collapsed": false,
     "input": [
      "from collections import namedtuple"
     ],
     "language": "python",
     "metadata": {},
     "outputs": [],
     "prompt_number": 16
    },
    {
     "cell_type": "code",
     "collapsed": false,
     "input": [
      "EdgeRaw = namedtuple('EdgeRaw', ['source', 'target'])"
     ],
     "language": "python",
     "metadata": {},
     "outputs": [],
     "prompt_number": 17
    },
    {
     "cell_type": "code",
     "collapsed": false,
     "input": [
      "source_pattern = r'links\\[(\\d+)\\]\\[source\\]\\[id\\]'\n",
      "edge_number_pattern = r'links\\[(\\d+)\\].*'\n",
      "edges_number = set()\n",
      "for key in gDict.keys():\n",
      "    result = re.search(edge_number_pattern, key)\n",
      "    if result:\n",
      "        edge_point = int(result.group(1))\n",
      "#         print result.group(1)\n",
      "        edges_number.add(edge_point)\n",
      "    \n",
      "#     result = re.search('.*links.*', key)\n",
      "    \n",
      "#     if result:\n",
      "#         print result.group()\n",
      "#         print gDict[result.group()]\n",
      "#         print '----'"
     ],
     "language": "python",
     "metadata": {},
     "outputs": [],
     "prompt_number": 18
    },
    {
     "cell_type": "code",
     "collapsed": false,
     "input": [
      "edges = set()\n",
      "edge_source_key = 'links[%d][target][id]'\n",
      "edge_target_key = 'links[%d][source][id]'\n",
      "for e in edges_number:\n",
      "    source_node = int(gDict[edge_source_key % e]) - 1\n",
      "    target_node = int(gDict[edge_target_key % e]) - 1\n",
      "    print source_node\n",
      "    print target_node\n",
      "    edges.add(EdgeRaw(source_node, target_node))"
     ],
     "language": "python",
     "metadata": {},
     "outputs": [
      {
       "ename": "TypeError",
       "evalue": "int() argument must be a string or a number, not 'list'",
       "output_type": "pyerr",
       "traceback": [
        "\u001b[0;31m---------------------------------------------------------------------------\u001b[0m\n\u001b[0;31mTypeError\u001b[0m                                 Traceback (most recent call last)",
        "\u001b[0;32m<ipython-input-20-20fab775c997>\u001b[0m in \u001b[0;36m<module>\u001b[0;34m()\u001b[0m\n\u001b[1;32m      3\u001b[0m \u001b[0medge_target_key\u001b[0m \u001b[0;34m=\u001b[0m \u001b[0;34m'links[%d][source][id]'\u001b[0m\u001b[0;34m\u001b[0m\u001b[0m\n\u001b[1;32m      4\u001b[0m \u001b[0;32mfor\u001b[0m \u001b[0me\u001b[0m \u001b[0;32min\u001b[0m \u001b[0medges_number\u001b[0m\u001b[0;34m:\u001b[0m\u001b[0;34m\u001b[0m\u001b[0m\n\u001b[0;32m----> 5\u001b[0;31m     \u001b[0msource_node\u001b[0m \u001b[0;34m=\u001b[0m \u001b[0mint\u001b[0m\u001b[0;34m(\u001b[0m\u001b[0mgDict\u001b[0m\u001b[0;34m[\u001b[0m\u001b[0medge_source_key\u001b[0m \u001b[0;34m%\u001b[0m \u001b[0me\u001b[0m\u001b[0;34m]\u001b[0m\u001b[0;34m)\u001b[0m \u001b[0;34m-\u001b[0m \u001b[0;36m1\u001b[0m\u001b[0;34m\u001b[0m\u001b[0m\n\u001b[0m\u001b[1;32m      6\u001b[0m     \u001b[0mtarget_node\u001b[0m \u001b[0;34m=\u001b[0m \u001b[0mint\u001b[0m\u001b[0;34m(\u001b[0m\u001b[0mgDict\u001b[0m\u001b[0;34m[\u001b[0m\u001b[0medge_target_key\u001b[0m \u001b[0;34m%\u001b[0m \u001b[0me\u001b[0m\u001b[0;34m]\u001b[0m\u001b[0;34m)\u001b[0m \u001b[0;34m-\u001b[0m \u001b[0;36m1\u001b[0m\u001b[0;34m\u001b[0m\u001b[0m\n\u001b[1;32m      7\u001b[0m     \u001b[0;32mprint\u001b[0m \u001b[0msource_node\u001b[0m\u001b[0;34m\u001b[0m\u001b[0m\n",
        "\u001b[0;31mTypeError\u001b[0m: int() argument must be a string or a number, not 'list'"
       ]
      }
     ],
     "prompt_number": 20
    },
    {
     "cell_type": "code",
     "collapsed": false,
     "input": [],
     "language": "python",
     "metadata": {},
     "outputs": []
    }
   ],
   "metadata": {}
  }
 ]
}